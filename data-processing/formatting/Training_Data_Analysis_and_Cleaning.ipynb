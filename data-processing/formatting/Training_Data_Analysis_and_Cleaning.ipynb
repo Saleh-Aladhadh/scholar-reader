{
 "cells": [
  {
   "cell_type": "code",
   "execution_count": 78,
   "metadata": {},
   "outputs": [],
   "source": [
    "%matplotlib inline\n",
    "\n",
    "import json, os, sys, re, math\n",
    "import numpy as np\n",
    "import pandas as pd\n",
    "import cv2  \n",
    "from shutil import copy\n",
    "import plotly.graph_objects as go\n",
    "from plotly.subplots import make_subplots\n"
   ]
  },
  {
   "cell_type": "code",
   "execution_count": 79,
   "metadata": {},
   "outputs": [],
   "source": [
    "path = '../data/CNNTest/'\n",
    "train_bbs = json.load(open(path+'train/bounding_box_data.json','r'))"
   ]
  },
  {
   "cell_type": "code",
   "execution_count": null,
   "metadata": {},
   "outputs": [],
   "source": [
    "papers = {}\n",
    "papers_df = pd.DataFrame()\n",
    "i = 0\n",
    "for paper_page in train_bbs:\n",
    "    paper = paper_page.split('-')[0]\n",
    "    page = f\"page{paper_page.replace('.png','').split('-')[-1]}\"\n",
    "    if paper in papers:\n",
    "        papers[paper]['pages_count'] +=1\n",
    "        \n",
    "    else:\n",
    "        papers[paper]={}\n",
    "        papers[paper]['pages_count']=0\n",
    "        papers[paper]['pages'] = {}\n",
    "        \n",
    "    temp_papers = []\n",
    "    for region in train_bbs[paper_page]['regions']:\n",
    "        temp = train_bbs[paper_page]['regions'][region]\n",
    "        width = temp['shape_attributes']['all_points_x'][2]-temp['shape_attributes']['all_points_x'][0]\n",
    "        left = temp['shape_attributes']['all_points_x'][0]\n",
    "        top = temp['shape_attributes']['all_points_y'][0]\n",
    "        entity_id = temp['shape_attributes']['entity_id']\n",
    "        height = temp['shape_attributes']['all_points_y'][1]-temp['shape_attributes']['all_points_y'][0]\n",
    "        papers_df = papers_df.append({'paper':paper,'page':page,'width':width,'height':height, \\\n",
    "                                      'entity_id':entity_id, 'top':top,'left':left}, ignore_index=True)\n",
    "        temp_papers.append((width, height))\n",
    "    papers[paper]['pages'][page] = temp_papers\n",
    "\n",
    "num_papers = 0\n",
    "num_pages = 0\n",
    "num_eqns = 0\n",
    "\n",
    "widths = []\n",
    "heights = []\n",
    "\n",
    "eqns_per_page = []\n",
    "eqns_per_paper = []\n",
    "\n",
    "pages_per_paper = []\n",
    "\n",
    "for paper in papers:\n",
    "    num_papers+=1\n",
    "    num_pages+= papers[paper]['pages_count']\n",
    "    pages_per_paper.append(papers[paper]['pages_count'])\n",
    "    eqns_for_this_paper = 0\n",
    "    for page in papers[paper]['pages']:\n",
    "        num_eqns+=len(papers[paper]['pages'][page])\n",
    "        eqns_per_page.append(len(papers[paper]['pages'][page]))\n",
    "        eqns_for_this_paper +=len(papers[paper]['pages'][page])\n",
    "        for eqn in papers[paper]['pages'][page]:\n",
    "            widths.append(eqn[0])\n",
    "            heights.append(eqn[1])\n",
    "        \n",
    "    eqns_per_paper.append(eqns_for_this_paper)\n",
    "    "
   ]
  },
  {
   "cell_type": "code",
   "execution_count": null,
   "metadata": {},
   "outputs": [],
   "source": [
    "num_papers, num_pages, num_eqns"
   ]
  },
  {
   "cell_type": "code",
   "execution_count": null,
   "metadata": {},
   "outputs": [],
   "source": [
    "\n",
    "\n",
    "fig = go.Figure()\n",
    "# fig.add_trace(go.Histogram(x=widths,bingroup=1,name=\"Widths\"))\n",
    "# fig.add_trace(go.Histogram(x=heights,bingroup=1,name=\"Heights\"))\n",
    "fig.add_trace(go.Histogram(x=papers_df[\"width\"],bingroup=1,name=\"Widths\", histnorm=\"percent\"))\n",
    "fig.add_trace(go.Histogram(x=papers_df[\"height\"],bingroup=1,name=\"Heights\", histnorm=\"percent\"))\n",
    "\n",
    "# Overlay both histograms\n",
    "fig.update_layout(barmode='overlay')\n",
    "# Reduce opacity to see both histograms\n",
    "fig.update_traces(opacity=0.65)\n",
    "fig.update_layout(\n",
    "    title_x=0.5,\n",
    "    title_text='Histograms of Equation Heights and Widths', # title of plot\n",
    "    xaxis_title_text='Pixels', # xaxis label\n",
    "    yaxis_title_text='% Eqns', # yaxis label\n",
    "    bargap=0, # gap between bars of adjacent location coordinates\n",
    "    bargroupgap=0.1 # gap between bars of the same location coordinates\n",
    ")\n",
    "\n",
    "fig.show()\n",
    "\n"
   ]
  },
  {
   "cell_type": "code",
   "execution_count": null,
   "metadata": {},
   "outputs": [],
   "source": [
    "\n",
    "\n",
    "fig = go.Figure()\n",
    "# fig.add_trace(go.Histogram(x=widths,bingroup=1,name=\"Widths\"))\n",
    "# fig.add_trace(go.Histogram(x=heights,bingroup=1,name=\"Heights\"))\n",
    "fig.add_trace(go.Histogram(x=papers_df[\"width\"],bingroup=1,name=\"Widths\", histnorm=\"percent\",cumulative_enabled=True))\n",
    "fig.add_trace(go.Histogram(x=papers_df[\"height\"],bingroup=1,name=\"Heights\", histnorm=\"percent\",cumulative_enabled=True))\n",
    "\n",
    "# Overlay both histograms\n",
    "fig.update_layout(barmode='overlay')\n",
    "# Reduce opacity to see both histograms\n",
    "fig.update_traces(opacity=0.65)\n",
    "fig.update_layout(\n",
    "    title_x=0.5,\n",
    "    title_text='Histograms of Equation Heights and Widths', # title of plot\n",
    "    xaxis_title_text='Pixels', # xaxis label\n",
    "    yaxis_title_text='% Eqns', # yaxis label\n",
    "    bargap=0, # gap between bars of adjacent location coordinates\n",
    "    bargroupgap=0.1 # gap between bars of the same location coordinates\n",
    ")\n",
    "\n",
    "fig.show()\n",
    "\n",
    "\n",
    "papers_df['area'] = papers_df['height'] * papers_df['width']\n",
    "\n",
    "fig = go.Figure()\n",
    "# fig.add_trace(go.Histogram(x=widths,bingroup=1,name=\"Widths\"))\n",
    "# fig.add_trace(go.Histogram(x=heights,bingroup=1,name=\"Heights\"))\n",
    "fig.add_trace(go.Histogram(x=papers_df[\"area\"],bingroup=1,name=\"Area\", histnorm=\"percent\"))\n",
    "\n",
    "# Overlay both histograms\n",
    "fig.update_layout(barmode='overlay')\n",
    "# Reduce opacity to see both histograms\n",
    "fig.update_traces(opacity=0.65)\n",
    "fig.update_layout(\n",
    "    title_x=0.5,\n",
    "    title_text='Histograms of Equation Area', # title of plot\n",
    "    xaxis_title_text='Pixels^2', # xaxis label\n",
    "    yaxis_title_text='% Eqns', # yaxis label\n",
    "    bargap=0, # gap between bars of adjacent location coordinates\n",
    "    bargroupgap=0.1 # gap between bars of the same location coordinates\n",
    ")\n",
    "\n",
    "fig.show()\n",
    "\n"
   ]
  },
  {
   "cell_type": "code",
   "execution_count": null,
   "metadata": {},
   "outputs": [],
   "source": [
    "\n",
    "\n",
    "fig = go.Figure()\n",
    "fig.add_trace(go.Histogram(x=eqns_per_page,bingroup=1,name=\"Eqns_per_page\", histnorm=\"percent\",cumulative_enabled=True))\n",
    "# fig.add_trace(go.Histogram(x=eqns_per_page,bingroup=1,name=\"Eqns_per_page\", histnorm=\"percent\"))\n",
    "\n",
    "# Overlay both histograms\n",
    "fig.update_layout(barmode='overlay')\n",
    "# Reduce opacity to see both histograms\n",
    "fig.update_traces(opacity=0.65)\n",
    "fig.update_layout(\n",
    "    title_x=0.5,\n",
    "    title_text='Histograms of Equations per Page', # title of plot\n",
    "    xaxis_title_text='Eqns', # xaxis label\n",
    "    yaxis_title_text='% Pages', # yaxis label\n",
    "    bargap=0, # gap between bars of adjacent location coordinates\n",
    "    bargroupgap=0.1 # gap between bars of the same location coordinates\n",
    ")\n",
    "\n",
    "fig.show()\n",
    "\n"
   ]
  },
  {
   "cell_type": "code",
   "execution_count": null,
   "metadata": {},
   "outputs": [],
   "source": [
    "paper_df = papers_df.sort_values(['paper','page','entity_id','top'], ascending=True)\n",
    "papers_df.head()"
   ]
  },
  {
   "cell_type": "code",
   "execution_count": null,
   "metadata": {},
   "outputs": [],
   "source": [
    "papers_df[papers_df.height<7].sort_values(['height','width'],ascending=False)\n",
    "#Height <7 is the magic number to merge "
   ]
  },
  {
   "cell_type": "code",
   "execution_count": null,
   "metadata": {},
   "outputs": [],
   "source": [
    "papers_df[papers_df.height>=0].sort_values(['height'],ascending=False).head(5)\n"
   ]
  },
  {
   "cell_type": "code",
   "execution_count": null,
   "metadata": {},
   "outputs": [],
   "source": [
    "# print(sorted(papers_df.width.unique()))\n",
    "papers_df[(papers_df.width<=10) & (papers_df.height>=7)].sort_values(['paper','page'],ascending=False).head(20)"
   ]
  },
  {
   "cell_type": "code",
   "execution_count": null,
   "metadata": {},
   "outputs": [],
   "source": [
    "# print(sorted(papers_df.width.unique()))\n",
    "papers_df[(papers_df.width<=10)].sort_values(['width'],ascending=False)"
   ]
  },
  {
   "cell_type": "code",
   "execution_count": null,
   "metadata": {},
   "outputs": [],
   "source": [
    "total_eqns = papers_df.groupby(['paper','page']).size()\n",
    "\n",
    "\n",
    "\n",
    "total_papers = list(set(list(papers_df.paper)))\n",
    "\n",
    "papers_to_remove = []\n",
    "papers_to_remove = papers_to_remove + [\"1501.00009\",\"1503.00066\",\"0705.00116\"] #page orientation\n",
    "papers_to_remove = papers_to_remove + [\"0705.00017\"] #Random figures and artifacts as eqns\n",
    "papers_to_remove = papers_to_remove +  list(set(list(papers_df[(papers_df.width<=10)].paper)))\n",
    "papers_to_remove = papers_to_remove +  list(set(list(papers_df[(papers_df.height<7)].paper)))\n",
    "\n",
    "\n",
    "def remove_papers(row):\n",
    "\n",
    "    if row in papers_to_remove:\n",
    "        return 1\n",
    "    else:\n",
    "        return 0"
   ]
  },
  {
   "cell_type": "code",
   "execution_count": null,
   "metadata": {},
   "outputs": [],
   "source": [
    "len(total_papers), len(papers_to_remove)"
   ]
  },
  {
   "cell_type": "code",
   "execution_count": null,
   "metadata": {},
   "outputs": [],
   "source": [
    "total_eqns = papers_df.groupby(['paper','page']).size().reset_index().sort_values(['paper','page'])\n",
    "total_eqns.columns = ['paper','page','eqns']\n",
    "new_papers_df = papers_df.merge(total_eqns, on=['paper','page'], how=\"left\")\n",
    "new_papers_df.head()"
   ]
  },
  {
   "cell_type": "code",
   "execution_count": null,
   "metadata": {},
   "outputs": [],
   "source": [
    "new_papers_df[new_papers_df['eqns']<=20]"
   ]
  },
  {
   "cell_type": "code",
   "execution_count": null,
   "metadata": {},
   "outputs": [],
   "source": [
    "new_papers_df['remove'] = new_papers_df.paper.apply(lambda x: remove_papers(x))"
   ]
  },
  {
   "cell_type": "code",
   "execution_count": null,
   "metadata": {},
   "outputs": [],
   "source": [
    "new_papers_df[(new_papers_df['eqns']<=20) & (new_papers_df['remove']==0)].drop_duplicates()"
   ]
  },
  {
   "cell_type": "code",
   "execution_count": null,
   "metadata": {},
   "outputs": [],
   "source": [
    "a = pd.DataFrame()\n",
    "b = pd.DataFrame({'A': ['A8', 'A9', 'A10', 'A11'],\n",
    "'B': ['B8', 'B9', 'B10', 'B11'],\n",
    "'C': ['C8', 'C9', 'C10', 'C11'],\n",
    "'D': ['D8', 'D9', 'D10', 'D11']})"
   ]
  },
  {
   "cell_type": "code",
   "execution_count": 71,
   "metadata": {},
   "outputs": [],
   "source": [
    "a = pd.concat([a,b])"
   ]
  },
  {
   "cell_type": "code",
   "execution_count": 72,
   "metadata": {},
   "outputs": [
    {
     "data": {
      "text/html": [
       "<div>\n",
       "<style scoped>\n",
       "    .dataframe tbody tr th:only-of-type {\n",
       "        vertical-align: middle;\n",
       "    }\n",
       "\n",
       "    .dataframe tbody tr th {\n",
       "        vertical-align: top;\n",
       "    }\n",
       "\n",
       "    .dataframe thead th {\n",
       "        text-align: right;\n",
       "    }\n",
       "</style>\n",
       "<table border=\"1\" class=\"dataframe\">\n",
       "  <thead>\n",
       "    <tr style=\"text-align: right;\">\n",
       "      <th></th>\n",
       "      <th>A</th>\n",
       "      <th>B</th>\n",
       "      <th>C</th>\n",
       "      <th>D</th>\n",
       "    </tr>\n",
       "  </thead>\n",
       "  <tbody>\n",
       "    <tr>\n",
       "      <td>0</td>\n",
       "      <td>A8</td>\n",
       "      <td>B8</td>\n",
       "      <td>C8</td>\n",
       "      <td>D8</td>\n",
       "    </tr>\n",
       "    <tr>\n",
       "      <td>1</td>\n",
       "      <td>A9</td>\n",
       "      <td>B9</td>\n",
       "      <td>C9</td>\n",
       "      <td>D9</td>\n",
       "    </tr>\n",
       "    <tr>\n",
       "      <td>2</td>\n",
       "      <td>A10</td>\n",
       "      <td>B10</td>\n",
       "      <td>C10</td>\n",
       "      <td>D10</td>\n",
       "    </tr>\n",
       "    <tr>\n",
       "      <td>3</td>\n",
       "      <td>A11</td>\n",
       "      <td>B11</td>\n",
       "      <td>C11</td>\n",
       "      <td>D11</td>\n",
       "    </tr>\n",
       "  </tbody>\n",
       "</table>\n",
       "</div>"
      ],
      "text/plain": [
       "     A    B    C    D\n",
       "0   A8   B8   C8   D8\n",
       "1   A9   B9   C9   D9\n",
       "2  A10  B10  C10  D10\n",
       "3  A11  B11  C11  D11"
      ]
     },
     "execution_count": 72,
     "metadata": {},
     "output_type": "execute_result"
    }
   ],
   "source": [
    "a"
   ]
  },
  {
   "cell_type": "code",
   "execution_count": null,
   "metadata": {},
   "outputs": [],
   "source": []
  }
 ],
 "metadata": {
  "kernelspec": {
   "display_name": "Python 3",
   "language": "python",
   "name": "python3"
  },
  "language_info": {
   "codemirror_mode": {
    "name": "ipython",
    "version": 3
   },
   "file_extension": ".py",
   "mimetype": "text/x-python",
   "name": "python",
   "nbconvert_exporter": "python",
   "pygments_lexer": "ipython3",
   "version": "3.6.9"
  }
 },
 "nbformat": 4,
 "nbformat_minor": 2
}
